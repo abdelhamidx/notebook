{
  "metadata": {
    "language_info": {
      "codemirror_mode": {
        "name": "python",
        "version": 3
      },
      "file_extension": ".py",
      "mimetype": "text/x-python",
      "name": "python",
      "nbconvert_exporter": "python",
      "pygments_lexer": "ipython3",
      "version": "3.8"
    },
    "kernelspec": {
      "name": "python",
      "display_name": "Python (Pyodide)",
      "language": "python"
    }
  },
  "nbformat_minor": 4,
  "nbformat": 4,
  "cells": [
    {
      "cell_type": "markdown",
      "source": "<h1>My Notebook</h1>",
      "metadata": {}
    },
    {
      "cell_type": "markdown",
      "source": "<h2> Introduction </h2>\nData science is the study of data to extract meaningful insights for business. It is a multidisciplinary approach that combines principles and practices from the fields of mathematics, statistics, artificial intelligence, and computer engineering to analyze large amounts of data.\n",
      "metadata": {}
    },
    {
      "cell_type": "markdown",
      "source": "<h2>Languages data science </h2>\nHere are the top nine programming languages that data scientists should know:\nPython. Python is a general-purpose programming language that can get used to develop any software. ...\nSQL (Structured Query Language) SQL is one of the world's most widely used programming languages. ...\nR. ...\nJulia. ...\nJavaScript. ...\nScala. ...\nJava. ...\n",
      "metadata": {}
    },
    {
      "cell_type": "markdown",
      "source": "<h2>Which library is used for data science in Python?\n </h2>\n Pandas. Next in the list of python librabries is Pandads. Pandas (Python data analysis) is a must in the data science life cycle. It is the most popular and widely used Python library for data science, along with NumPy in matplotlib.",
      "metadata": {}
    },
    {
      "cell_type": "markdown",
      "source": "<h2>Data Science Tools </h2>\n\nData Science Tools\nSAS. It is one of those data science tools which are specifically designed for statistical operation\t\t\nApache Spark\nBigML",
      "metadata": {}
    },
    {
      "cell_type": "markdown",
      "source": "<h2>Below are a few examples of evaluating arithmetic expressions in Python </h2>\n",
      "metadata": {}
    },
    {
      "cell_type": "code",
      "source": "# Arithmetic operations\ncode = compile(\"5 + 4\", \"<string>\", \"eval\")\neval(code)\n# Result: 9\n",
      "metadata": {
        "trusted": true
      },
      "execution_count": 3,
      "outputs": [
        {
          "execution_count": 3,
          "output_type": "execute_result",
          "data": {
            "text/plain": "9"
          },
          "metadata": {}
        }
      ]
    },
    {
      "cell_type": "code",
      "source": "code1 = compile(\"(5 + 7) * 2\", \"<string>\", \"eval\")\neval(code1)\n# Result: 24\n",
      "metadata": {
        "trusted": true
      },
      "execution_count": 4,
      "outputs": [
        {
          "execution_count": 4,
          "output_type": "execute_result",
          "data": {
            "text/plain": "24"
          },
          "metadata": {}
        }
      ]
    },
    {
      "cell_type": "markdown",
      "source": "<h2>Create a code cell to multiply and add numbers.\nThis a simple arithmetic expression to mutiply then add integers </h2>",
      "metadata": {}
    },
    {
      "cell_type": "code",
      "source": "(3*4)+5\n# Result: 17\n",
      "metadata": {
        "trusted": true
      },
      "execution_count": 5,
      "outputs": [
        {
          "execution_count": 5,
          "output_type": "execute_result",
          "data": {
            "text/plain": "17"
          },
          "metadata": {}
        }
      ]
    },
    {
      "cell_type": "markdown",
      "source": "<h2> Create a code cell to convert minutes to hours. \n\nThis will convert 200 minutes to hours by diving by 60\n\n </h2>",
      "metadata": {}
    },
    {
      "cell_type": "code",
      "source": "days = 0\nhours = 0\nmins = 0\n\ntime = 200\n#days = time / 1440\nleftover_minutes = time % 1440\nhours = leftover_minutes / 60\n#mins = time - (days*1440) - (hours*60)\nprint(str(days) + \" days, \" + str(hours) + \" hours, \" + str(mins) +  \" mins. \")\n\n# Result: 3.3333333333333335 hours\n",
      "metadata": {
        "trusted": true
      },
      "execution_count": 7,
      "outputs": [
        {
          "name": "stdout",
          "text": "0 days, 3.3333333333333335 hours, 0 mins. \n",
          "output_type": "stream"
        }
      ]
    },
    {
      "cell_type": "markdown",
      "source": "<h2>Insert a markdown cell to list Objectives.</h2>\n\nBelow the introduction cell created in Exercise 3, insert a new markdown cell to list the objectives that this notebook covered (i.e. some of the key takeaways from the course). In this new cell start with an introductory line titled: Objectives: in bold font. Then using an unordered list (bullets) indicate 3 to 5 items covered in this notebook, such as List popular languages for Data Science.\n\n",
      "metadata": {}
    },
    {
      "cell_type": "markdown",
      "source": "<h2>Create a markdown cell to indicate the Author’s name. </h2>",
      "metadata": {}
    },
    {
      "cell_type": "markdown",
      "source": "<h2> Author </h2>\nAbdelhamid maaroufi",
      "metadata": {}
    },
    {
      "cell_type": "code",
      "source": "",
      "metadata": {},
      "execution_count": null,
      "outputs": []
    },
    {
      "cell_type": "code",
      "source": "",
      "metadata": {},
      "execution_count": null,
      "outputs": []
    },
    {
      "cell_type": "code",
      "source": "",
      "metadata": {},
      "execution_count": null,
      "outputs": []
    }
  ]
}